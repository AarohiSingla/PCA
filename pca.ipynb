{
 "cells": [
  {
   "cell_type": "code",
   "execution_count": 2,
   "metadata": {},
   "outputs": [
    {
     "name": "stderr",
     "output_type": "stream",
     "text": [
      "c:\\users\\aarohi\\appdata\\local\\programs\\python\\python36\\lib\\site-packages\\sklearn\\utils\\deprecation.py:58: DeprecationWarning: Class Imputer is deprecated; Imputer was deprecated in version 0.20 and will be removed in 0.22. Import impute.SimpleImputer from sklearn instead.\n",
      "  warnings.warn(msg, category=DeprecationWarning)\n"
     ]
    }
   ],
   "source": [
    "import numpy as np\n",
    "from sklearn.decomposition import PCA\n",
    "import pandas as pd\n",
    "import matplotlib.pyplot as plt\n",
    "\n",
    "df = pd.read_csv ('Health.csv')\n",
    "\n",
    "X = df.iloc [:,0:3].values  # X is independent variable\n",
    "y = df.iloc [:,3].values   #dependent variable\n",
    "\n",
    "#print(X)\n",
    "#print(y)\n",
    "\n",
    "from sklearn.preprocessing import Imputer\n",
    "# First create an Imputer , Stratergy means what we want to write in place of missed value\n",
    "missingValueImputer = Imputer (missing_values = 'NaN', strategy = 'mean', \n",
    "                               axis = 0)  #if missing values are represented by 9999 then write same here\n",
    "# Set which columns imputer should perform\n",
    "missingValueImputer = missingValueImputer.fit (X[:,1:3])\n",
    "# update values of X with new values\n",
    "X[:,1:3] = missingValueImputer.transform(X[:,1:3])\n",
    "\n",
    "\n",
    "\n",
    "from sklearn.preprocessing import LabelEncoder\n",
    "X_labelencoder = LabelEncoder()\n",
    "X[:, 0] = X_labelencoder.fit_transform(X[:, 0])\n",
    "#print (X)\n",
    "\n",
    "# for y\n",
    "y_labelencoder = LabelEncoder ()\n",
    "y = y_labelencoder.fit_transform (y)\n",
    "#print (y)\n",
    "\n"
   ]
  },
  {
   "cell_type": "code",
   "execution_count": 3,
   "metadata": {},
   "outputs": [
    {
     "name": "stdout",
     "output_type": "stream",
     "text": [
      "before PCA: \n",
      "[[2 186.0 90.0]\n",
      " [0 185.0 98.0]\n",
      " [1 175.0 80.0]\n",
      " [2 180.0 88.0]\n",
      " [1 178.0 85.25]\n",
      " [1 172.0 72.0]\n",
      " [0 178.0 75.0]\n",
      " [2 180.0 89.0]\n",
      " [0 186.0 90.0]]\n",
      "After doing PCA\n",
      "[[ -7.06292449   2.81250625]\n",
      " [-13.57442999  -1.65347908]\n",
      " [  7.01369106  -1.82482999]\n",
      " [ -2.40970644  -1.4409998 ]\n",
      " [  0.96762908  -1.7377904 ]\n",
      " [ 15.4664579   -0.592055  ]\n",
      " [  9.94107604   3.3027037 ]\n",
      " [ -3.28487184  -1.92093237]\n",
      " [ -7.05692131   3.0548767 ]]\n"
     ]
    }
   ],
   "source": [
    "print(\"before PCA: \")\n",
    "print(X)\n",
    "pc = PCA(n_components=2)\n",
    "pc.fit(X)\n",
    "\n",
    "X_pca = pc.transform(X)\n",
    "print(\"After doing PCA\")\n",
    "print(X_pca)"
   ]
  },
  {
   "cell_type": "code",
   "execution_count": 4,
   "metadata": {},
   "outputs": [
    {
     "name": "stdout",
     "output_type": "stream",
     "text": [
      "original shape:    (9, 3)\n",
      "transformed shape: (9, 2)\n"
     ]
    }
   ],
   "source": [
    "print(\"original shape:   \", X.shape)  # (9,3)\n",
    "print(\"transformed shape:\", X_pca.shape) #(9,2) when n_components =2 "
   ]
  },
  {
   "cell_type": "code",
   "execution_count": 5,
   "metadata": {},
   "outputs": [
    {
     "name": "stdout",
     "output_type": "stream",
     "text": [
      "[0.93384643 0.05878131]\n"
     ]
    }
   ],
   "source": [
    "#returns a vector of the variance explained by each dimension\n",
    "\n",
    "print(pc.explained_variance_ratio_)   # # 93% data belongs to first axis and 5% data belongs to the second axis and remaining belongs to others"
   ]
  },
  {
   "cell_type": "code",
   "execution_count": 6,
   "metadata": {},
   "outputs": [
    {
     "name": "stdout",
     "output_type": "stream",
     "text": [
      "        PCA1      PCA2\n",
      "0  -7.062924  2.812506\n",
      "1 -13.574430 -1.653479\n",
      "2   7.013691 -1.824830\n",
      "3  -2.409706 -1.441000\n",
      "4   0.967629 -1.737790\n",
      "5  15.466458 -0.592055\n",
      "6   9.941076  3.302704\n",
      "7  -3.284872 -1.920932\n",
      "8  -7.056921  3.054877\n"
     ]
    }
   ],
   "source": [
    "df = pd.DataFrame(X_pca,columns = ['PCA1','PCA2'])\n",
    "print(df)\n",
    "#print(df.iloc[:,0])\n"
   ]
  },
  {
   "cell_type": "code",
   "execution_count": 9,
   "metadata": {},
   "outputs": [
    {
     "data": {
      "image/png": "[encoded data removed]",
      "text/plain": [
       "<Figure size 432x288 with 1 Axes>"
      ]
     },
     "metadata": {
      "needs_background": "light"
     },
     "output_type": "display_data"
    }
   ],
   "source": [
    "plt.plot(df)\n",
    "plt.show()"
   ]
  }
 ],
 "metadata": {
  "kernelspec": {
   "display_name": "Python 3",
   "language": "python",
   "name": "python3"
  },
  "language_info": {
   "codemirror_mode": {
    "name": "ipython",
    "version": 3
   },
   "file_extension": ".py",
   "mimetype": "text/x-python",
   "name": "python",
   "nbconvert_exporter": "python",
   "pygments_lexer": "ipython3",
   "version": "3.6.0"
  }
 },
 "nbformat": 4,
 "nbformat_minor": 2
}
